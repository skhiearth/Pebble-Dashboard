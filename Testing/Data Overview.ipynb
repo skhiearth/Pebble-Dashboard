{
 "cells": [
  {
   "cell_type": "code",
   "execution_count": 5,
   "id": "f99a9464",
   "metadata": {},
   "outputs": [],
   "source": [
    "import requests\n",
    "import pandas as pd\n",
    "import numpy as np\n",
    "import pebble_pb2\n",
    "import datetime"
   ]
  },
  {
   "cell_type": "code",
   "execution_count": 6,
   "id": "94c5da9d",
   "metadata": {},
   "outputs": [],
   "source": [
    "def run_query(q):\n",
    "    request = requests.post('http://34.146.117.200:8000/subgraphs/name/iotex/pebble-subgraph'\n",
    "                            '',\n",
    "                            json={'query': q})\n",
    "    if request.status_code == 200:\n",
    "        return request.json()\n",
    "    else:\n",
    "        raise Exception('Query failed with return code: {}'.format(request.status_code))"
   ]
  },
  {
   "cell_type": "code",
   "execution_count": 30,
   "id": "9e485a0a",
   "metadata": {},
   "outputs": [
    {
     "name": "stdout",
     "output_type": "stream",
     "text": [
      "25\n",
      "25\n",
      "25\n",
      "25\n",
      "25\n",
      "25\n",
      "25\n",
      "25\n",
      "25\n",
      "25\n",
      "25\n",
      "25\n",
      "25\n",
      "25\n",
      "25\n",
      "25\n",
      "25\n",
      "25\n",
      "25\n",
      "25\n",
      "25\n",
      "25\n",
      "25\n",
      "25\n"
     ]
    }
   ],
   "source": [
    "query = \"\"\"\n",
    "{\n",
    "  devices {\n",
    "    id\n",
    "    name\n",
    "    address\n",
    "    owner\n",
    "    lastDataTime\n",
    "    status\n",
    "    name\n",
    "    data\n",
    "    config\n",
    "  }\n",
    "}\n",
    "\"\"\"\n",
    "result = run_query(query)\n",
    "\n",
    "statusDf = pd.DataFrame(columns = [\"Id\", \"Name\", \"Address\", \"Owner\", \"Last Data Time\", \"Last Data\", \"Status\", \"Raw Data\",\n",
    "                                  \"Snr\", \"Vbat\", \"Latitude\", \"Longitude\", \"Gas Resistance\", \"Temperature\", \"Pressure\",\n",
    "                                  \"Humidity\", \"Light\", \"Temperature2\", \"Gyroscope1\", \"Gyroscope2\", \"Gyroscope3\", \n",
    "                                  \"Accelerometer1\", \"Accelerometer2\", \"Accelerometer3\"])\n",
    "\n",
    "for key, value in result[\"data\"].items():\n",
    "    for device in value:\n",
    "        data = []\n",
    "        data.append(device[\"id\"])\n",
    "        data.append(device[\"name\"])\n",
    "        data.append(device[\"address\"])\n",
    "        data.append(device[\"owner\"])\n",
    "        data.append(device[\"lastDataTime\"])\n",
    "        \n",
    "        if(device[\"lastDataTime\"] == None):\n",
    "            data.append(\"None\")\n",
    "        else:\n",
    "            data.append(datetime.datetime.utcfromtimestamp(int(device[\"lastDataTime\"])).strftime('%Y-%m-%d %H:%M:%S'))\n",
    "            \n",
    "        data.append(device[\"status\"])\n",
    "        \n",
    "        if(device[\"data\"]):\n",
    "            dataString = device[\"data\"].replace(\"0x\", \"\")\n",
    "            data.append(dataString)\n",
    "            dataBytes = bytes.fromhex(dataString)\n",
    "            sensorData = pebble_pb2.SensorData()\n",
    "            sensorData.ParseFromString(dataBytes)\n",
    "            \n",
    "            data.append(sensorData.snr)\n",
    "            data.append(sensorData.vbat)\n",
    "            data.append(sensorData.latitude)\n",
    "            data.append(sensorData.longitude)\n",
    "            data.append(sensorData.gasResistance)\n",
    "            data.append(sensorData.temperature)\n",
    "            data.append(sensorData.pressure)\n",
    "            data.append(sensorData.humidity)\n",
    "            data.append(sensorData.light)\n",
    "            data.append(sensorData.temperature2)\n",
    "            if(len(sensorData.gyroscope) == 3):\n",
    "                data.append(sensorData.gyroscope[0])\n",
    "                data.append(sensorData.gyroscope[1])\n",
    "                data.append(sensorData.gyroscope[2])\n",
    "            else:\n",
    "                data.append(\"No Data\")\n",
    "                data.append(\"No Data\")\n",
    "                data.append(\"No Data\")\n",
    "            if(len(sensorData.accelerometer) == 3):\n",
    "                data.append(sensorData.accelerometer[0])\n",
    "                data.append(sensorData.accelerometer[1])\n",
    "                data.append(sensorData.accelerometer[2])\n",
    "            else:\n",
    "                data.append(\"No Data\")\n",
    "                data.append(\"No Data\")\n",
    "                data.append(\"No Data\")\n",
    "        else:\n",
    "            data.append(\"No Data\")\n",
    "            data.append(\"No Data\")\n",
    "            data.append(\"No Data\")\n",
    "            data.append(\"No Data\")\n",
    "            data.append(\"No Data\")\n",
    "            data.append(\"No Data\")\n",
    "            data.append(\"No Data\")\n",
    "            data.append(\"No Data\")\n",
    "            data.append(\"No Data\")\n",
    "            data.append(\"No Data\")\n",
    "            data.append(\"No Data\")\n",
    "            data.append(\"No Data\")\n",
    "            data.append(\"No Data\")\n",
    "            data.append(\"No Data\")\n",
    "            data.append(\"No Data\")\n",
    "            data.append(\"No Data\")\n",
    "            data.append(\"No Data\")\n",
    "            \n",
    "        statusDf.loc[len(statusDf)] = data"
   ]
  },
  {
   "cell_type": "code",
   "execution_count": 51,
   "id": "f2069fed",
   "metadata": {},
   "outputs": [],
   "source": [
    "statusDf.sort_values(by='Last Data Time', ascending = False, inplace=True)\n",
    "statusDf.reset_index(inplace=True)"
   ]
  },
  {
   "cell_type": "code",
   "execution_count": 55,
   "id": "f0a10636",
   "metadata": {},
   "outputs": [],
   "source": [
    "timeDf = statusDf[statusDf[\"Last Data\"] != \"None\"]"
   ]
  },
  {
   "cell_type": "code",
   "execution_count": 50,
   "id": "8ad35709",
   "metadata": {},
   "outputs": [
    {
     "data": {
      "text/plain": [
       "index                                                     21\n",
       "Id                                           351358810263696\n",
       "Name                                         351358810263696\n",
       "Address           0x5633f3b9b3d5368fe703f8571014ad00a8f908f3\n",
       "Owner                                                   None\n",
       "Last Data Time                                          None\n",
       "Last Data                                               None\n",
       "Status                                                     1\n",
       "Name                                         351358810263696\n",
       "Raw Data                                             No Data\n",
       "Snr                                                  No Data\n",
       "Vbat                                                 No Data\n",
       "Latitude                                             No Data\n",
       "Longitude                                            No Data\n",
       "Gas Resistance                                       No Data\n",
       "Temperature                                          No Data\n",
       "Pressure                                             No Data\n",
       "Humidity                                             No Data\n",
       "Light                                                No Data\n",
       "Temperature2                                         No Data\n",
       "Gyroscope1                                           No Data\n",
       "Gyroscope2                                           No Data\n",
       "Gyroscope3                                           No Data\n",
       "Accelerometer1                                       No Data\n",
       "Accelerometer2                                       No Data\n",
       "Accelerometer3                                       No Data\n",
       "Name: 23, dtype: object"
      ]
     },
     "execution_count": 50,
     "metadata": {},
     "output_type": "execute_result"
    }
   ],
   "source": [
    "statusDf.iloc[-1]"
   ]
  },
  {
   "cell_type": "code",
   "execution_count": 57,
   "id": "d777f71f",
   "metadata": {},
   "outputs": [
    {
     "data": {
      "text/plain": [
       "Name    351358810263571\n",
       "Name    351358810263571\n",
       "Name: 0, dtype: object"
      ]
     },
     "execution_count": 57,
     "metadata": {},
     "output_type": "execute_result"
    }
   ],
   "source": [
    "timeDf.iloc[0][\"Name\"]"
   ]
  },
  {
   "cell_type": "code",
   "execution_count": null,
   "id": "2d3d3ece",
   "metadata": {},
   "outputs": [],
   "source": []
  }
 ],
 "metadata": {
  "kernelspec": {
   "display_name": "Python 3",
   "language": "python",
   "name": "python3"
  },
  "language_info": {
   "codemirror_mode": {
    "name": "ipython",
    "version": 3
   },
   "file_extension": ".py",
   "mimetype": "text/x-python",
   "name": "python",
   "nbconvert_exporter": "python",
   "pygments_lexer": "ipython3",
   "version": "3.8.2"
  }
 },
 "nbformat": 4,
 "nbformat_minor": 5
}
